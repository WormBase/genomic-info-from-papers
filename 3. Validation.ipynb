{
 "cells": [
  {
   "cell_type": "markdown",
   "metadata": {},
   "source": [
    "# 1 Extracting genes and variants"
   ]
  },
  {
   "cell_type": "code",
   "execution_count": 1,
   "metadata": {},
   "outputs": [],
   "source": [
    "import pandas as pd\n",
    "import math\n",
    "from pathlib import Path\n",
    "import numpy as np\n",
    "import re\n",
    "import glob\n",
    "import configparser\n",
    "\n",
    "from utils.misc.regex_block import MutationFinder, TmVar, CustomWBregex, normalize_mutations"
   ]
  },
  {
   "cell_type": "code",
   "execution_count": 2,
   "metadata": {},
   "outputs": [
    {
     "name": "stdout",
     "output_type": "stream",
     "text": [
      "data/model_output/extracted_snippets.csv\n",
      "data/model_output/extracted_snippets_part2.csv\n",
      "data/model_output/extracted_snippets_part3.csv\n"
     ]
    }
   ],
   "source": [
    "# incase you've ran the prev notebook on splits of papers\n",
    "data = []\n",
    "for file in glob.glob(\"data/model_output/*.csv\"):\n",
    "    print(file)\n",
    "    # 'WBPaper ID', 'Method', '* Genes', '* Gene-Variant combo', 'Mutation', 'Sentence'\n",
    "    text = pd.read_csv(file).to_numpy().tolist()\n",
    "    data = data + text \n",
    "data = np.array(data)"
   ]
  },
  {
   "cell_type": "code",
   "execution_count": 3,
   "metadata": {},
   "outputs": [
    {
     "name": "stdout",
     "output_type": "stream",
     "text": [
      "Total sentences: 19001, processed count:  100 200 300 400 500 600 700 800 900 1000 1100 1200 1300 1400 1500 1600 1700 1800 1900 2000 2100 2200 2300 2400 2500 2600 2700 2800 2900 3000 3100 3200 3300 3400 3500 3600 3700 3800 3900 4000 4100 4200 4300 4400 4500 4600 4700 4800 4900 5000 5100 5200 5300 5400 5500 5600 5700 5800 5900 6000 6100 6200 6300 6400 6500 6600 6700 6800 6900 7000 7100 7200 7300 7400 7500 7600 7700 7800 7900 8000 8100 8200 8300 8400 8500 8600 8700 8800 8900 9000 9100 9200 9300 9400 9500 9600 9700 9800 9900 10000 10100 10200 10300 10400 10500 10600 10700 10800 10900 11000 11100 11200 11300 11400 11500 11600 11700 11800 11900 12000 12100 12200 12300 12400 12500 12600 12700 12800 12900 13000 13100 13200 13300 13400 13500 13600 13700 13800 13900 14000 14100 14200 14300 14400 14500 14600 14700 14800 14900 15000 15100 15200 15300 15400 15500 15600 15700 15800 15900 16000 16100 16200 16300 16400 16500 16600 16700 16800 16900 17000 17100 17200 17300 17400 17500 17600 17700 17800 17900 18000 18100 18200 18300 18400 18500 18600 18700 18800 18900 19000 "
     ]
    }
   ],
   "source": [
    "OPENING_CLOSING_REGEXES = [r'((?:^|[\\s\\(\\[\\'\"/,;\\-])', r'(?:^|[\\s\\(\\[\\'\"/,;\\-]))']\n",
    "\n",
    "# the allele regex and db idea was stolen from wbtools\n",
    "allele_designations = np.load('data/gsoc/wbtools/wb_allele_designations.npy').astype('U6')\n",
    "alleles_variations = np.load('data/gsoc/wbtools/wb_alleles_variations.npy').astype('U6')\n",
    "DB_VAR_REGEX = r'({designations}|m|p|ts|gf|lf|d|sd|am|cs)([0-9]+)'\n",
    "var_regex_1 = OPENING_CLOSING_REGEXES[0] + DB_VAR_REGEX.format(designations=\"|\".join(allele_designations)) + OPENING_CLOSING_REGEXES[1]\n",
    "all_var = OPENING_CLOSING_REGEXES[0] + '|'.join(alleles_variations) + '|' + var_regex_1 + OPENING_CLOSING_REGEXES[1]\n",
    "all_var = [re.compile(r,re.IGNORECASE) for r in [all_var]]\n",
    "\n",
    "# 'WBPaper ID', 'Method', '* Genes', 'Variants', '*Gene-Variant combo ', 'Mutations', 'Sentence'\n",
    "updated_data = []\n",
    "total = len(data)\n",
    "print('Total sentences: {}, processed count: '.format(total), end=' ')\n",
    "for i, sent in enumerate(data[:, -1]):\n",
    "    if (i+1) % 100 == 0: print(f\"{i+1}\", end = \" \")\n",
    "    variants = []\n",
    "    for regex in all_var:      \n",
    "        for m in regex.finditer(sent):\n",
    "            span = (m.start(0), m.end(0))    \n",
    "            raw = (sent[span[0]:span[1]]).strip()\n",
    "            raw = raw[1:] if not raw[0].isalnum() else raw\n",
    "            raw = raw[:-1] if not raw[-1].isalnum() else raw\n",
    "            if len(raw.strip()) > 1: variants.append(raw.strip())\n",
    "    if variants:\n",
    "        variants  = list(set(variants))\n",
    "        variants = \"'\" + \"', '\".join(variants) + \"'\"\n",
    "    else:\n",
    "        variants = ''\n",
    "    updated_data.append([data[i,0], data[i,1], data[i,2], variants, data[i,-3], data[i,-2], data[i,-1]])"
   ]
  },
  {
   "cell_type": "code",
   "execution_count": 4,
   "metadata": {},
   "outputs": [],
   "source": [
    "# above cell takes a while to complete, so saving the data temporarily\n",
    "updated_data = pd.DataFrame(updated_data[:], columns=['WBPaper ID', 'Method', '*Genes', 'Variants', '*Gene-Variant combo ', 'Mutations', 'Sentence'])\n",
    "updated_data.to_csv(\"data/model_output/processed/snippets_1.csv\", index=False, encoding='utf-8')\n",
    "updated_data = None"
   ]
  },
  {
   "cell_type": "markdown",
   "metadata": {},
   "source": [
    "# 2 Normalizing genes to WB dictionary"
   ]
  },
  {
   "cell_type": "code",
   "execution_count": 5,
   "metadata": {},
   "outputs": [],
   "source": [
    "data = pd.read_csv(\"data/model_output/processed/snippets_1.csv\")\n",
    "data = data.to_numpy() # 'WBPaper ID', 'Method', 'Genes', 'Variants', '*Gene-Variant combo ', 'Mutations', 'Sentence'"
   ]
  },
  {
   "cell_type": "code",
   "execution_count": 6,
   "metadata": {},
   "outputs": [],
   "source": [
    "wb_genes_1 = Path('data/gsoc/Gene_alias.1.txt').read_text().split('\\n')\n",
    "wb_genes_2 = Path('data/gsoc/Gene_alias.2.txt').read_text().split('\\n')\n",
    "wb_genes_3 = Path('data/gsoc/Gene_alias.3.txt').read_text().split('\\n')\n",
    "\n",
    "wb_genes_1 = [r.split('\\t') for r in wb_genes_1]\n",
    "wb_genes_2 = [r.split(' ') for r in wb_genes_2]\n",
    "wb_genes_3 = [r.split(' ') for r in wb_genes_3]"
   ]
  },
  {
   "cell_type": "markdown",
   "metadata": {},
   "source": [
    "Inefficient way to do this. Have to work on better search algo."
   ]
  },
  {
   "cell_type": "code",
   "execution_count": 7,
   "metadata": {},
   "outputs": [
    {
     "data": {
      "text/plain": [
       "306123"
      ]
     },
     "execution_count": 7,
     "metadata": {},
     "output_type": "execute_result"
    }
   ],
   "source": [
    "all_wb_genes = dict()\n",
    "\n",
    "for row in wb_genes_1+wb_genes_2+wb_genes_3:\n",
    "    if row[0] not in all_wb_genes.keys():\n",
    "        all_wb_genes[row[0]] = []\n",
    "    for gene in row[1:]: \n",
    "        if len(gene) and gene.lower() not in all_wb_genes[row[0]]: \n",
    "            all_wb_genes[row[0]].append(gene.lower())\n",
    "len(all_wb_genes)"
   ]
  },
  {
   "cell_type": "code",
   "execution_count": 8,
   "metadata": {},
   "outputs": [
    {
     "name": "stdout",
     "output_type": "stream",
     "text": [
      "Total sentences: 19001, processed count:  100 200 300 400 500 600 700 800 900 1000 1100 1200 1300 1400 1500 1600 1700 1800 1900 2000 2100 2200 2300 2400 2500 2600 2700 2800 2900 3000 3100 3200 3300 3400 3500 3600 3700 3800 3900 4000 4100 4200 4300 4400 4500 4600 4700 4800 4900 5000 5100 5200 5300 5400 5500 5600 5700 5800 5900 6000 6100 6200 6300 6400 6500 6600 6700 6800 6900 7000 7100 7200 7300 7400 7500 7600 7700 7800 7900 8000 8100 8200 8300 8400 8500 8600 8700 8800 8900 9000 9100 9200 9300 9400 9500 9600 9700 9800 9900 10000 10100 10200 10300 10400 10500 10600 10700 10800 10900 11000 11100 11200 11300 11400 11500 11600 11700 11800 11900 12000 12100 12200 12300 12400 12500 12600 12700 12800 12900 13000 13100 13200 13300 13400 13500 13600 13700 13800 13900 14000 14100 14200 14300 14400 14500 14600 14700 14800 14900 15000 15100 15200 15300 15400 15500 15600 15700 15800 15900 16000 16100 16200 16300 16400 16500 16600 16700 16800 16900 17000 17100 17200 17300 17400 17500 17600 17700 17800 17900 18000 18100 18200 18300 18400 18500 18600 18700 18800 18900 19000 "
     ]
    }
   ],
   "source": [
    "print('Total sentences: {}, processed count: '.format(len(data)), end=' ')\n",
    "updated_data = []\n",
    "\n",
    "for i, genes in enumerate(data[:, 2]):\n",
    "    if (i+1) % 100 == 0: print(f\"{i+1}\", end = \" \")\n",
    "    # checking if nan\n",
    "    if type(genes) == float:\n",
    "        col_genes = ''\n",
    "    else:\n",
    "        genes = genes[1:-1].split(\"', '\")\n",
    "        col_genes = []\n",
    "        \n",
    "        for gene in genes:\n",
    "            for key, value in all_wb_genes.items():\n",
    "                if gene.lower() in value:\n",
    "                    col_genes.append(key)\n",
    "                    break\n",
    "        if col_genes:\n",
    "            col_genes = list(set(col_genes))\n",
    "            col_genes = \"'\" + \"', '\".join(col_genes) + \"'\"\n",
    "        else: \n",
    "            col_genes = ''\n",
    "    updated_data.append([data[i,0], data[i,1], data[i,2], col_genes, data[i,3], data[i,4], data[i,5], data[i,6]])\n",
    "    \n",
    "data = updated_data # 'WBPaper ID', 'Method', 'Genes', 'WBGenes', 'Variants', '*Gene-Variant combo ', 'Mutations', 'Sentence'\n",
    "updated_data = None"
   ]
  },
  {
   "cell_type": "markdown",
   "metadata": {},
   "source": [
    "Checking if any detected gene was NOT in the WB gene dictionary"
   ]
  },
  {
   "cell_type": "code",
   "execution_count": 9,
   "metadata": {},
   "outputs": [
    {
     "data": {
      "text/plain": [
       "array([], shape=(0, 19001, 8), dtype='<U11773')"
      ]
     },
     "execution_count": 9,
     "metadata": {},
     "output_type": "execute_result"
    }
   ],
   "source": [
    "data = np.array(data)\n",
    "data[len(data[:,2]) != len(data[:,3])] "
   ]
  },
  {
   "cell_type": "code",
   "execution_count": 10,
   "metadata": {},
   "outputs": [],
   "source": [
    "# above cell takes a while to complete, so saving the data temporarily\n",
    "data = data.tolist()\n",
    "data = pd.DataFrame(data[:], columns=['WBPaper ID', 'Method', 'Genes', 'WBGenes', 'Variants', '*Gene-Variant combo ', 'Mutations', 'Sentence'])\n",
    "data.to_csv(\"data/model_output/processed/snippets_2.csv\", index=False, encoding='utf-8')\n",
    "data = None"
   ]
  },
  {
   "cell_type": "markdown",
   "metadata": {},
   "source": [
    "# 3 Normalizing mutations to  one-letter amino acid codes"
   ]
  },
  {
   "cell_type": "markdown",
   "metadata": {},
   "source": [
    "These code imports would be doing the same thing done in notebook 2, but on a much small subset of data.   \n",
    "TODO later, not code breaking: This additional metadata of how the mutation was extracted should be inside notebook 2."
   ]
  },
  {
   "cell_type": "code",
   "execution_count": 2,
   "metadata": {},
   "outputs": [],
   "source": [
    "data = pd.read_csv(\"data/model_output/processed/snippets_2.csv\")\n",
    "data = data.to_numpy() # 'WBPaper ID', 'Method', 'Genes', 'WBGenes', 'Variants', '*Gene-Variant combo ', 'Mutations', 'Sentence'"
   ]
  },
  {
   "cell_type": "code",
   "execution_count": 3,
   "metadata": {},
   "outputs": [
    {
     "name": "stderr",
     "output_type": "stream",
     "text": [
      "/mnt/c/Users/Rishab/Documents/GitHub/genomic-info-from-papers/genomic-info-from-papers/utils/misc/regex_block.py:67: FutureWarning: Possible nested set at position 15\n",
      "  self._regular_expressions.append(re.compile(reg))\n"
     ]
    }
   ],
   "source": [
    "db_config = configparser.ConfigParser()\n",
    "db_config.read('utils/all_config.cfg')\n",
    "\n",
    "custom_mut_extract = CustomWBregex(db_config, locus_only=True)\n",
    "mf_mut_extract = MutationFinder('data/regexs/mutationfinder_regex/seth_modified.txt')\n",
    "tmvar_mut_extract = TmVar('data/regexs/tmvar_regex/final_regex_path')"
   ]
  },
  {
   "cell_type": "code",
   "execution_count": 4,
   "metadata": {},
   "outputs": [],
   "source": [
    "def point_mut_block(sentence, span_size=150):\n",
    "    mut_and_snippets = []\n",
    "    \n",
    "    # MutationFinder\n",
    "    mut_and_snippets = mut_and_snippets + mf_mut_extract(sentence, span_size=span_size)\n",
    "    # tmVar\n",
    "    mut_and_snippets = mut_and_snippets + tmvar_mut_extract(sentence, span_size=span_size)\n",
    "    # Custom patterns\n",
    "    mut_and_snippets = mut_and_snippets + custom_mut_extract(sentence, span_size=span_size)\n",
    "\n",
    "    if mut_and_snippets:\n",
    "        mut_and_snippets = np.array(mut_and_snippets)\n",
    "        mut_and_snippets = mut_and_snippets[:, 0].tolist()\n",
    "        mut_and_snippets = list(set(mut_and_snippets))\n",
    "    return mut_and_snippets"
   ]
  },
  {
   "cell_type": "code",
   "execution_count": 5,
   "metadata": {},
   "outputs": [
    {
     "data": {
      "text/plain": [
       "['G-to-A change at nucleotide 673', 'T-to-G change at nucleotide 811']"
      ]
     },
     "execution_count": 5,
     "metadata": {},
     "output_type": "execute_result"
    }
   ],
   "source": [
    "point_mut_block('ad465 , nucleotide 2862 of the coding region to 400 bp downstream G-to-A change at nucleotide 673 resulting in a stop codon from the stop site was amplified using primers ATGGATGAAC at amino acid 107; ad692 , T-to-G change at nucleotide 811 TATACAA')"
   ]
  },
  {
   "cell_type": "code",
   "execution_count": 6,
   "metadata": {},
   "outputs": [
    {
     "data": {
      "text/plain": [
       "('T811G', 'F230L', 'C4539T', 'M856K', 'G118R', 'V1247L')"
      ]
     },
     "execution_count": 6,
     "metadata": {},
     "output_type": "execute_result"
    }
   ],
   "source": [
    "normalize_mutations('T-to-G change at nucleotide 811'), normalize_mutations('Phe230Leu'), \\\n",
    "normalize_mutations('C to T at nucleotide 4539'), normalize_mutations('methionine for lysine-856'), \\\n",
    "normalize_mutations('glycine-118 is replaced by an arginine'), normalize_mutations('1247 (valine to leucine')"
   ]
  },
  {
   "cell_type": "code",
   "execution_count": 7,
   "metadata": {},
   "outputs": [
    {
     "data": {
      "text/plain": [
       "'F230AMBER'"
      ]
     },
     "execution_count": 7,
     "metadata": {},
     "output_type": "execute_result"
    }
   ],
   "source": [
    "normalize_mutations('Phe230amber')"
   ]
  },
  {
   "cell_type": "markdown",
   "metadata": {},
   "source": [
    "Working with the protein mutations from regex block for now"
   ]
  },
  {
   "cell_type": "code",
   "execution_count": 8,
   "metadata": {},
   "outputs": [
    {
     "name": "stdout",
     "output_type": "stream",
     "text": [
      "Following mutations could NOT be normalized. Either a) normalize them manually and add in the csv file b) Make edits in the normalize_mutations fn\n",
      "Lys-82 to Lys\n",
      "53 bp del\n",
      "serine at position 377 to phenylalanine\n",
      "arginine at position 551 with a histidine\n",
      "glycine at position 573 with a serine\n",
      "aspartic acid to asparagine at codon 652\n",
      "glutamine at codon 13 to a stop\n",
      "glutamic acid 230 to lysine\n",
      "glycine at position 560 to an arginine\n",
      "glycine at position 558 to an arginine\n",
      "glycine at position 76 changed to glutamic acid\n",
      "glycine at position 76 changed to glutamic acid\n",
      "glutamic acid for glycine at codon 13\n"
     ]
    }
   ],
   "source": [
    "# old - 'WBPaper ID', 'Method', 'Genes', 'WBGenes', 'Variants', '*Gene-Variant combo ', 'Mutations', 'Sentence'\n",
    "# new - 'WBPaper ID', 'Method', 'Genes', 'WBGenes', 'Variants', '*Gene-Variant combo ', 'Mutations', 'Normalized Mutations', 'Sentence'\n",
    "temp = []\n",
    "total_count = len(data)\n",
    "ner_count = 0\n",
    "regex_count = 0\n",
    "print('Following mutations could NOT be normalized. Either a) normalize them manually and add in the csv file b) Make edits in the normalize_mutations fn')\n",
    "for i, row in enumerate(data):\n",
    "    if row[1] != 'Regex':\n",
    "        if row[1] == 'NER':\n",
    "            ner_count += 1\n",
    "        temp.append(np.insert(data[i], -1, '').tolist())\n",
    "    else:\n",
    "        regex_count += 1\n",
    "        norm_mutations = []\n",
    "        mutations = data[i, -2][1:-1].split(\"', '\")\n",
    "        for raw_mut in mutations: \n",
    "            mut = point_mut_block(raw_mut)\n",
    "            if mut:\n",
    "                # helps filtering obvious ones\n",
    "                for m in mut:\n",
    "                    m = m.replace(\",\", \"\")\n",
    "                    if m.find(')') != -1:\n",
    "                        if m.find('(') == -1:\n",
    "                            continue\n",
    "                    try:\n",
    "                        norm_mut = normalize_mutations(mut[0])\n",
    "                        norm_mutations.append(norm_mut)\n",
    "                    except KeyError:\n",
    "                        print(m)\n",
    "        if norm_mutations:\n",
    "            norm_mutations = list(set(norm_mutations))\n",
    "            norm_mutations = \"'\" + \"', '\".join(norm_mutations) + \"'\"\n",
    "        else: \n",
    "            norm_mutations = ''\n",
    "        temp.append(np.insert(data[i], -1, norm_mutations).tolist())\n",
    "        \n",
    "data = temp\n",
    "temp = None"
   ]
  },
  {
   "cell_type": "code",
   "execution_count": 9,
   "metadata": {},
   "outputs": [
    {
     "name": "stdout",
     "output_type": "stream",
     "text": [
      "All 1400 NER data row was ignored. Only 626 regex data rows were used.\n"
     ]
    }
   ],
   "source": [
    "print('All', ner_count, 'NER data row was ignored. Only', regex_count, 'regex data rows were used.')"
   ]
  },
  {
   "cell_type": "code",
   "execution_count": 10,
   "metadata": {},
   "outputs": [],
   "source": [
    "# saving things\n",
    "data = pd.DataFrame(data[:], columns=['WBPaper ID', 'Method', 'Genes', 'WBGenes', 'Variants', '*Gene-Variant combo ', 'Mutations', 'Normalized Mutations', 'Sentence'])\n",
    "data.to_csv(\"data/model_output/processed/snippets_3.csv\", index=False, encoding='utf-8')"
   ]
  },
  {
   "cell_type": "markdown",
   "metadata": {},
   "source": [
    "# 4 Validation"
   ]
  },
  {
   "cell_type": "code",
   "execution_count": 2,
   "metadata": {},
   "outputs": [
    {
     "data": {
      "text/plain": [
       "306123"
      ]
     },
     "execution_count": 2,
     "metadata": {},
     "output_type": "execute_result"
    }
   ],
   "source": [
    "wb_genes_1 = Path('data/gsoc/Gene_alias.1.txt').read_text().split('\\n')\n",
    "wb_genes_2 = Path('data/gsoc/Gene_alias.2.txt').read_text().split('\\n')\n",
    "wb_genes_3 = Path('data/gsoc/Gene_alias.3.txt').read_text().split('\\n')\n",
    "\n",
    "wb_genes_1 = [r.split('\\t') for r in wb_genes_1]\n",
    "wb_genes_2 = [r.split(' ') for r in wb_genes_2]\n",
    "wb_genes_3 = [r.split(' ') for r in wb_genes_3]\n",
    "\n",
    "all_wb_genes = dict()\n",
    "for row in wb_genes_1+wb_genes_2+wb_genes_3:\n",
    "    if row[0] not in all_wb_genes.keys():\n",
    "        all_wb_genes[row[0]] = []\n",
    "    for gene in row[1:]: \n",
    "        if len(gene) and gene not in all_wb_genes[row[0]]: \n",
    "            if any(x.isupper() for x in gene):\n",
    "                continue\n",
    "            all_wb_genes[row[0]].append(gene)\n",
    "len(all_wb_genes)"
   ]
  },
  {
   "cell_type": "code",
   "execution_count": 3,
   "metadata": {},
   "outputs": [],
   "source": [
    "data = pd.read_csv(\"data/model_output/processed/snippets_3.csv\")\n",
    "data = data.to_numpy() # 'WBPaper ID', 'Method', 'Genes', 'WBGenes', 'Variants', '*Gene-Variant combo ', 'Mutations', 'Normalized Mutations', 'Sentence'"
   ]
  },
  {
   "cell_type": "code",
   "execution_count": 4,
   "metadata": {},
   "outputs": [],
   "source": [
    "proteinfa = Path('data/gsoc/proteinfa/c_elegans.PRJNA13758.WS281.protein.fa').read_text().split('>')[1:]"
   ]
  },
  {
   "cell_type": "code",
   "execution_count": 5,
   "metadata": {},
   "outputs": [
    {
     "data": {
      "text/plain": [
       "19987"
      ]
     },
     "execution_count": 5,
     "metadata": {},
     "output_type": "execute_result"
    }
   ],
   "source": [
    "wb_gene_and_prot = dict() # {wbgene: [transcript, protein]}\n",
    "\n",
    "for row in proteinfa:\n",
    "    wbgene = re.findall(\"WBGene[0-9]+\", row)[0]\n",
    "    protein = \"\".join(re.findall(\"\\n.*\", row)).replace('\\n','')\n",
    "    transcript = row.split(' ')[0]\n",
    "    if wbgene not in wb_gene_and_prot.keys():\n",
    "        wb_gene_and_prot[wbgene] = []\n",
    "    wb_gene_and_prot[wbgene].append([transcript, protein])\n",
    "    \n",
    "len(wb_gene_and_prot)"
   ]
  },
  {
   "cell_type": "code",
   "execution_count": 6,
   "metadata": {},
   "outputs": [],
   "source": [
    "def unique_rows(a):\n",
    "    a = np.ascontiguousarray(a)\n",
    "    unique_a = np.unique(a.view([('', a.dtype)]*a.shape[1]))\n",
    "    return unique_a.view(a.dtype).reshape((unique_a.shape[0], a.shape[1]))"
   ]
  },
  {
   "cell_type": "markdown",
   "metadata": {},
   "source": [
    "### There are two ways to pair the genes and mutations - \n",
    "### A) Create a dictionary of genes and mutations mentioned in paper (within some constraint) and pair up one by one.\n",
    "### B) Create a pair of gene and mutation only when BOTH are present in same sentence.\n",
    "Results of each approach is present at end."
   ]
  },
  {
   "cell_type": "markdown",
   "metadata": {},
   "source": [
    "#### Approach A - "
   ]
  },
  {
   "cell_type": "code",
   "execution_count": 7,
   "metadata": {},
   "outputs": [],
   "source": [
    "# threshold of how close the neighboring sentence with mutation should be \n",
    "# putting 0 would mean genes would be considered only from sentence with mutation info\n",
    "thres_neighboring_sent_count = 0\n",
    "\n",
    "prev_line_with_mut = -9999999\n",
    "paper_raw_info_compiled = dict()\n",
    "# 'WBPaper ID', 'Method', 'Genes', 'WBGenes', 'Variants', '*Gene-Variant combo ', 'Mutations', 'Normalized Mutations', 'Sentence'\n",
    "for row in data:\n",
    "    ppr_id = row[0]\n",
    "    norm_muts = row[-2]\n",
    "    wbgenes = row[3]\n",
    "    genes = row[2]\n",
    "    variants = row[4]\n",
    "    sentence = row[-1]\n",
    "    line_number = int(row[-1].split()[1][:1])\n",
    "    if ppr_id not in paper_raw_info_compiled.keys():\n",
    "        paper_raw_info_compiled[ppr_id] = {'Mutations':[], 'WBGenes':[], 'Genes':[], 'Variants':[]}\n",
    "        \n",
    "    # filtering out nan values\n",
    "    if type(norm_muts) != float:    \n",
    "        prev_line_with_mut = line_number\n",
    "        norm_muts = norm_muts[1:-1].split(\"', '\")\n",
    "        for m in norm_muts: \n",
    "            if m not in [row[0] for row in paper_raw_info_compiled[ppr_id]['Mutations']]:\n",
    "                paper_raw_info_compiled[ppr_id]['Mutations'].append([m, sentence])\n",
    "    elif not (line_number - prev_line_with_mut) <= thres_neighboring_sent_count:\n",
    "        continue\n",
    "        \n",
    "    if type(wbgenes) != float:\n",
    "        wbgenes = wbgenes[1:-1].split(\"', '\")\n",
    "        for w in wbgenes: \n",
    "            if w not in [row[0] for row in paper_raw_info_compiled[ppr_id]['WBGenes']]:\n",
    "                paper_raw_info_compiled[ppr_id]['WBGenes'].append([w, sentence])\n",
    "    if type(variants) != float:\n",
    "        variants = variants[1:-1].split(\"', '\")\n",
    "        for v in variants: \n",
    "            if v not in [row[0] for row in paper_raw_info_compiled[ppr_id]['Variants']]:\n",
    "                paper_raw_info_compiled[ppr_id]['Variants'].append([v, sentence])"
   ]
  },
  {
   "cell_type": "code",
   "execution_count": 8,
   "metadata": {},
   "outputs": [],
   "source": [
    "matches = [] \n",
    "final_sheet = [] # ppr_id, gene, transcript\n",
    "\n",
    "for i, (ppr_id, info_from_ppr) in enumerate(paper_raw_info_compiled.items()):  \n",
    "    wbgenes = info_from_ppr['WBGenes']\n",
    "    mutations = info_from_ppr['Mutations']\n",
    "    for gene, gene_sent in wbgenes:\n",
    "        if gene not in wb_gene_and_prot.keys():\n",
    "            continue\n",
    "        for row in wb_gene_and_prot[gene]:\n",
    "            transcript, protein_string = row\n",
    "            for mut, mut_sent in mutations:\n",
    "                if not len(mut):\n",
    "                    continue\n",
    "                wt_res = mut[0]\n",
    "                pos = int(''.join(n for n in mut if n.isdigit()))\n",
    "                mut_res = mut[-1]\n",
    "                try:\n",
    "                    if protein_string[pos-1] == wt_res:\n",
    "                        # adding these weird characters to make the splitting easier later\n",
    "                        # hopefully no author ever decides put these exact sequence of characters in their paper\n",
    "                        # because then the code will break hehe\n",
    "                        matches.append([ppr_id, gene + ' ' + mut + ' ' + transcript + ' ?@#$' + gene_sent + ' ?@#$' + mut_sent])\n",
    "                except IndexError:\n",
    "                    pass\n",
    "    \n",
    "matches = unique_rows(matches)\n",
    "for r in matches:\n",
    "    p = r[0]\n",
    "    temp, g_sent, m_sent = r[1].split(' ?@#$')\n",
    "    wbg, m, t = temp.split()\n",
    "    # Adding gene common names column, again\n",
    "    # Current code doesn't keep any link between the WB gene name and the common name\n",
    "    g_common_name = all_wb_genes[wbg]\n",
    "    g_common_name = ', '.join(g_common_name)\n",
    "    final_sheet.append([p,wbg,g_common_name,m,t,g_sent,m_sent])\n",
    "final_sheet = np.array(final_sheet)"
   ]
  },
  {
   "cell_type": "code",
   "execution_count": 9,
   "metadata": {
    "tags": []
   },
   "outputs": [
    {
     "data": {
      "text/plain": [
       "1939"
      ]
     },
     "execution_count": 9,
     "metadata": {},
     "output_type": "execute_result"
    }
   ],
   "source": [
    "len(final_sheet)"
   ]
  },
  {
   "cell_type": "code",
   "execution_count": 10,
   "metadata": {},
   "outputs": [],
   "source": [
    "# saving things\n",
    "final_sheet = pd.DataFrame(final_sheet[:], columns=['WBPaper ID', 'WBGene', 'Genes', 'Mutation', 'Transcript', 'Gene Sentence', 'Mutation Sentence'])\n",
    "final_sheet.to_csv(\"data/model_output/processed/final_A.csv\", index=False, encoding='utf-8')"
   ]
  },
  {
   "cell_type": "markdown",
   "metadata": {},
   "source": [
    "#### Approach B - "
   ]
  },
  {
   "cell_type": "code",
   "execution_count": 11,
   "metadata": {},
   "outputs": [],
   "source": [
    "paper_raw_info_compiled = []\n",
    "# 'WBPaper ID', 'Method', 'Genes', 'WBGenes', 'Variants', '*Gene-Variant combo ', 'Mutations', 'Normalized Mutations', 'Sentence'\n",
    "for row in data:\n",
    "    ppr_id = row[0]\n",
    "    norm_muts = row[-2]\n",
    "    wbgenes = row[3]\n",
    "    sentence = row[-1]\n",
    "        \n",
    "    # filtering out nan values\n",
    "    if type(norm_muts) != float and type(wbgenes) != float:    \n",
    "        norm_muts = norm_muts[1:-1].split(\"', '\")\n",
    "        wbgenes = wbgenes[1:-1].split(\"', '\")\n",
    "        for m in norm_muts:\n",
    "            for g in wbgenes:\n",
    "                if len(m) and len(g):\n",
    "                    paper_raw_info_compiled.append([ppr_id, g, m, sentence])"
   ]
  },
  {
   "cell_type": "code",
   "execution_count": 12,
   "metadata": {},
   "outputs": [],
   "source": [
    "matches = [] \n",
    "final_sheet = [] # ppr_id, gene, transcript\n",
    "\n",
    "for info_from_ppr in paper_raw_info_compiled:\n",
    "    ppr_id = info_from_ppr[0]\n",
    "    gene = info_from_ppr[1]\n",
    "    mut = info_from_ppr[2]\n",
    "    sent = info_from_ppr[3]\n",
    "    if not len(mut):\n",
    "        continue\n",
    "    if gene not in wb_gene_and_prot.keys():\n",
    "        continue\n",
    "    for row in wb_gene_and_prot[gene]:\n",
    "        transcript, protein_string = row\n",
    "        wt_res = mut[0]\n",
    "        pos = int(''.join(n for n in mut if n.isdigit()))\n",
    "        mut_res = mut[-1]\n",
    "        try:\n",
    "            if protein_string[pos-1] == wt_res:\n",
    "                # adding these weird characters to make the splitting easier later\n",
    "                # hopefully no author ever decides put these exact sequence of characters in their paper\n",
    "                # because then the code will break hehe\n",
    "                matches.append([ppr_id, gene + ' ' + mut + ' ' + transcript + ' ?@#$' + sent])\n",
    "        except IndexError:\n",
    "            pass\n",
    "    \n",
    "matches = unique_rows(matches)\n",
    "for r in matches:\n",
    "    p = r[0]\n",
    "    temp, sent = r[1].split(' ?@#$')\n",
    "    wbg, m, t = temp.split()\n",
    "    # Adding gene common names column, again\n",
    "    # Current code doesn't keep any link between the WB gene name and the common name\n",
    "    g_common_name = all_wb_genes[wbg]\n",
    "    g_common_name = ', '.join(g_common_name)\n",
    "    final_sheet.append([p,wbg,g_common_name,m,t, sent])"
   ]
  },
  {
   "cell_type": "code",
   "execution_count": 13,
   "metadata": {},
   "outputs": [
    {
     "data": {
      "text/plain": [
       "941"
      ]
     },
     "execution_count": 13,
     "metadata": {},
     "output_type": "execute_result"
    }
   ],
   "source": [
    "len(final_sheet)"
   ]
  },
  {
   "cell_type": "code",
   "execution_count": 14,
   "metadata": {},
   "outputs": [],
   "source": [
    "# saving things\n",
    "final_sheet = pd.DataFrame(final_sheet[:], columns=['WBPaper ID', 'WBGene', 'Gene', 'Mutation', 'Transcript', 'Sentence'])\n",
    "final_sheet.to_csv(\"data/model_output/processed/final_B.csv\", index=False, encoding='utf-8')"
   ]
  },
  {
   "cell_type": "markdown",
   "metadata": {},
   "source": [
    "# 5 Verification"
   ]
  },
  {
   "cell_type": "code",
   "execution_count": 15,
   "metadata": {},
   "outputs": [],
   "source": [
    "data_A = pd.read_csv(\"data/model_output/processed/final_A.csv\")\n",
    "data_A = data_A.to_numpy() \n",
    "paper_ids_processed_A = np.unique(data_A[:,0])\n",
    "paper_ids_processed_A = np.sort(paper_ids_processed_A)\n",
    "\n",
    "data_B = pd.read_csv(\"data/model_output/processed/final_B.csv\")\n",
    "data_B = data_B.to_numpy() \n",
    "paper_ids_processed_B = np.unique(data_B[:,0])\n",
    "paper_ids_processed_B = np.sort(paper_ids_processed_B)\n",
    "\n",
    "temp = pd.read_csv(\"data/model_output/processed/snippets_1.csv\")\n",
    "temp = temp.to_numpy()\n",
    "total_paper_ids_processed = np.unique(temp[:,0])\n",
    "temp = None"
   ]
  },
  {
   "cell_type": "code",
   "execution_count": 16,
   "metadata": {},
   "outputs": [
    {
     "name": "stdout",
     "output_type": "stream",
     "text": [
      "Total count of papers processed: 100\n",
      "Count of papers from approach A: 68\n",
      "Count of papers from approach B: 52\n"
     ]
    }
   ],
   "source": [
    "print('Total count of papers processed:', len(total_paper_ids_processed))\n",
    "print('Count of papers from approach A:', len(paper_ids_processed_A))\n",
    "print('Count of papers from approach B:', len(paper_ids_processed_B))"
   ]
  },
  {
   "cell_type": "code",
   "execution_count": 17,
   "metadata": {},
   "outputs": [],
   "source": [
    "ground_truth = Path('data/gsoc/Variants_best_outcome.txt').read_text().split('\\n')\n",
    "ground_truth = [r.split('\\t') for r in ground_truth][:-1]\n",
    "ground_truth = np.array(ground_truth, dtype=object)"
   ]
  },
  {
   "cell_type": "code",
   "execution_count": 18,
   "metadata": {},
   "outputs": [
    {
     "name": "stdout",
     "output_type": "stream",
     "text": [
      "Approach A WBPaper00030864\n",
      "Approach B WBPaper00030864\n"
     ]
    }
   ],
   "source": [
    "# Checking if any processed paper is not in the ground truth file\n",
    "for id in paper_ids_processed_A:\n",
    "    if id not in ground_truth[:,0]:\n",
    "        print('Approach A', id)\n",
    "for id in paper_ids_processed_B:\n",
    "    if id not in ground_truth[:,0]:\n",
    "        print('Approach B', id)"
   ]
  },
  {
   "cell_type": "code",
   "execution_count": 19,
   "metadata": {},
   "outputs": [],
   "source": [
    "tp_col = []\n",
    "for row in data_A:\n",
    "    paper_id = row[0]\n",
    "    gene = row[1]\n",
    "    mutation = row[3]\n",
    "    mutation = mutation.upper()\n",
    "    transcript = row[4]\n",
    "    bool_found = False\n",
    "    for label in ground_truth[ground_truth[:,0] == paper_id]:\n",
    "        label[-2] = label[-2].upper()\n",
    "        if transcript == label[-1] and mutation == label[-2]:\n",
    "            bool_found = True\n",
    "            # continue bc we're storing all the labels from a paper\n",
    "            continue\n",
    "    if bool_found:\n",
    "        tp_col.append('True Positive')\n",
    "    else:\n",
    "        tp_col.append('False Positive')"
   ]
  },
  {
   "cell_type": "code",
   "execution_count": 20,
   "metadata": {},
   "outputs": [
    {
     "data": {
      "text/plain": [
       "(399, 1540)"
      ]
     },
     "execution_count": 20,
     "metadata": {},
     "output_type": "execute_result"
    }
   ],
   "source": [
    "tp_col.count('True Positive'), tp_col.count('False Positive')"
   ]
  },
  {
   "cell_type": "code",
   "execution_count": 21,
   "metadata": {},
   "outputs": [
    {
     "name": "stdout",
     "output_type": "stream",
     "text": [
      "Precision  20.577617328519857 %\n"
     ]
    }
   ],
   "source": [
    "print('Precision ',tp_col.count('True Positive')*100/(tp_col.count('True Positive') + tp_col.count('False Positive')), '%')"
   ]
  },
  {
   "cell_type": "code",
   "execution_count": 22,
   "metadata": {},
   "outputs": [],
   "source": [
    "tp_col = np.array(tp_col).T.reshape(-1, 1)\n",
    "final_sheet = np.hstack((data_A,tp_col))\n",
    "# saving things\n",
    "final_sheet = pd.DataFrame(final_sheet[:], columns=['WBPaper ID', 'WBGene', 'Gene', 'Mutation', 'Transcript', 'Gene Sentence', 'Mutation Sentence', 'Result'])\n",
    "final_sheet.to_csv(\"data/model_output/processed/final_A_verified.csv\", index=False, encoding='utf-8')"
   ]
  },
  {
   "cell_type": "code",
   "execution_count": 23,
   "metadata": {},
   "outputs": [],
   "source": [
    "tp_col = []\n",
    "for row in data_B:\n",
    "    paper_id = row[0]\n",
    "    gene = row[1]\n",
    "    mutation = row[3]\n",
    "    mutation = mutation.upper()\n",
    "    transcript = row[4]\n",
    "    bool_found = False\n",
    "    for label in ground_truth[ground_truth[:,0] == paper_id]:\n",
    "        label[-2] = label[-2].upper()\n",
    "        if transcript == label[-1] and mutation == label[-2]:\n",
    "            bool_found = True\n",
    "            # continue bc we're storing all the labels from a paper\n",
    "            continue\n",
    "    if bool_found:\n",
    "        tp_col.append('True Positive')\n",
    "    else:\n",
    "        tp_col.append('False Positive')"
   ]
  },
  {
   "cell_type": "code",
   "execution_count": 24,
   "metadata": {},
   "outputs": [
    {
     "data": {
      "text/plain": [
       "(457, 484)"
      ]
     },
     "execution_count": 24,
     "metadata": {},
     "output_type": "execute_result"
    }
   ],
   "source": [
    "tp_col.count('True Positive'), tp_col.count('False Positive')"
   ]
  },
  {
   "cell_type": "code",
   "execution_count": 25,
   "metadata": {},
   "outputs": [
    {
     "name": "stdout",
     "output_type": "stream",
     "text": [
      "Precision  48.565356004250795 %\n"
     ]
    }
   ],
   "source": [
    "print('Precision ',tp_col.count('True Positive')*100/(tp_col.count('True Positive') + tp_col.count('False Positive')), '%')"
   ]
  },
  {
   "cell_type": "code",
   "execution_count": 26,
   "metadata": {},
   "outputs": [],
   "source": [
    "tp_col = np.array(tp_col).T.reshape(-1, 1)\n",
    "final_sheet = np.hstack((data_B,tp_col))\n",
    "# saving things\n",
    "final_sheet = pd.DataFrame(final_sheet[:], columns=['WBPaper ID', 'WBGene', 'Gene', 'Mutation', 'Transcript', 'Sentence', 'Result'])\n",
    "final_sheet.to_csv(\"data/model_output/processed/final_B_verified.csv\", index=False, encoding='utf-8')"
   ]
  },
  {
   "cell_type": "markdown",
   "metadata": {},
   "source": [
    "## Results of approach A and B used in section 4:"
   ]
  },
  {
   "cell_type": "markdown",
   "metadata": {},
   "source": [
    "Approach A-  \n",
    "TP: 444, FP: 1501  \n",
    "Precision: 22.82%  \n",
    "Approach B-  \n",
    "TP: 494, FP: 446  \n",
    "Precision: 52.55%  "
   ]
  },
  {
   "cell_type": "markdown",
   "metadata": {},
   "source": [
    "### Checking how many matches are present in the ground truth for the processed papers"
   ]
  },
  {
   "cell_type": "code",
   "execution_count": 27,
   "metadata": {},
   "outputs": [
    {
     "data": {
      "text/plain": [
       "2285"
      ]
     },
     "execution_count": 27,
     "metadata": {},
     "output_type": "execute_result"
    }
   ],
   "source": [
    "all_from_truth = []\n",
    "for ppr in paper_ids_processed_A:\n",
    "    for label in ground_truth[ground_truth[:,0] == ppr]:\n",
    "        label[-2] = label[-2].upper()\n",
    "        all_from_truth.append(label)\n",
    "len(all_from_truth)"
   ]
  },
  {
   "cell_type": "code",
   "execution_count": 28,
   "metadata": {},
   "outputs": [
    {
     "data": {
      "text/plain": [
       "1953"
      ]
     },
     "execution_count": 28,
     "metadata": {},
     "output_type": "execute_result"
    },
    {
     "name": "stderr",
     "output_type": "stream",
     "text": [
      "Error in atexit._run_exitfuncs:\n",
      "Traceback (most recent call last):\n",
      "  File \"/mnt/c/Users/Rishab/Documents/GitHub/genomic-info-from-papers/genomic-info-from-papers/env/lib/python3.8/site-packages/IPython/core/history.py\", line 576, in end_session\n",
      "    self.db.execute(\"\"\"UPDATE sessions SET end=?, num_cmds=? WHERE\n",
      "sqlite3.OperationalError: disk I/O error\n"
     ]
    }
   ],
   "source": [
    "all_from_truth = []\n",
    "for ppr in paper_ids_processed_B:\n",
    "    for label in ground_truth[ground_truth[:,0] == ppr]:\n",
    "        label[-2] = label[-2].upper()\n",
    "        all_from_truth.append(label)\n",
    "len(all_from_truth)"
   ]
  },
  {
   "cell_type": "code",
   "execution_count": null,
   "metadata": {},
   "outputs": [],
   "source": []
  }
 ],
 "metadata": {
  "interpreter": {
   "hash": "90bac3f7a4bb879b9d06605bdeda624e0779c88b1a5b8631d7aaa6d430fa2aec"
  },
  "kernelspec": {
   "display_name": "wb_env",
   "language": "python",
   "name": "wb_env"
  },
  "language_info": {
   "codemirror_mode": {
    "name": "ipython",
    "version": 3
   },
   "file_extension": ".py",
   "mimetype": "text/x-python",
   "name": "python",
   "nbconvert_exporter": "python",
   "pygments_lexer": "ipython3",
   "version": "3.8.10"
  }
 },
 "nbformat": 4,
 "nbformat_minor": 4
}
