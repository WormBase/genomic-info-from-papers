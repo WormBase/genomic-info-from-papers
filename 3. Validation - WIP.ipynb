{
 "cells": [
  {
   "cell_type": "markdown",
   "metadata": {},
   "source": [
    "# 1 Extracting genes and variants"
   ]
  },
  {
   "cell_type": "code",
   "execution_count": null,
   "metadata": {},
   "outputs": [],
   "source": [
    "import pandas as pd\n",
    "import math\n",
    "import numpy as np"
   ]
  },
  {
   "cell_type": "code",
   "execution_count": null,
   "metadata": {},
   "outputs": [],
   "source": [
    "df = pd.read_csv(\"data\\model_output\\extracted_snippets.csv\")\n",
    "df = df.to_numpy() # WBPaper ID, Method, * Gene-Variant combo , Mutation, Sentence"
   ]
  },
  {
   "cell_type": "code",
   "execution_count": null,
   "metadata": {},
   "outputs": [],
   "source": [
    "text = pd.read_csv(\"data\\model_output\\extracted_snippets.csv\")\n",
    "text = text.to_numpy() # WBPaper ID, Method, * Gene-Variant combo , Mutation, Sentence\n",
    "\n",
    "wb_genes = np.load('data\\gsoc\\wbtools\\all_gene_names.npy')\n",
    "all_genes = Path('data\\gsoc\\wbtools\\genes.txt').read_text().split('\\n')\n",
    "for g in wb_genes: all_genes.append(g)\n",
    "all_genes = [g for g in all_genes if len(g) > 1]\n",
    "all_genes = list(set(all_genes))\n",
    "\n",
    "OPENING_CLOSING_REGEXES = [r'((?:^|[\\s\\(\\[\\'\"/,;\\-])', r'(?:^|[\\s\\(\\[\\'\"/,;\\-]))']\n",
    "\n",
    "all_genes = OPENING_CLOSING_REGEXES[0] + '|'.join(all_genes) + OPENING_CLOSING_REGEXES[1]\n",
    "all_genes = [re.compile(r,re.IGNORECASE) for r in [all_genes]]\n",
    "\n",
    "allele_designations = np.load('data\\gsoc\\wbtools\\wb_allele_designations.npy')\n",
    "alleles_variations = np.load('data\\gsoc\\wbtools\\wb_alleles_variations.npy') \n",
    "DB_VAR_REGEX = r'(?:^|[\\s\\(\\[\\'\"/,;\\-])({designations}|m|p|ts|gf|lf|d|sd|am|cs)([0-9]+)(?:^|[\\s\\(\\[\\'\"/,;\\-])'\n",
    "var_regex_1 = DB_VAR_REGEX.format(designations=\"|\".join(allele_designations))\n",
    "var_regex_2 = OPENING_CLOSING_REGEXES[0] + '|'.join(alleles_variations) + OPENING_CLOSING_REGEXES[1]\n",
    "\n",
    "all_var = [re.compile(r,re.IGNORECASE) for r in [var_regex_1, var_regex_2]]\n",
    "\n",
    "final = []\n",
    "total = len(text)\n",
    "for i, mut, sent in enumerate(text[:, -2]):\n",
    "    if math.isnan(mut):\n",
    "        continue\n",
    "    sent = ': '..join()\n",
    "    if (i+1) % 50 == 0: print(f\"{i+1}>{total-1}\", end = \" \")\n",
    "    genes = []\n",
    "    for regex in all_genes:      \n",
    "        for m in regex.finditer(sent):\n",
    "            span = (m.start(0), m.end(0))    \n",
    "            raw = (sent[span[0]:span[1]])\n",
    "            raw = raw[1:] if not raw[0].isalnum() else raw\n",
    "            raw = raw[:-1] if not raw[-1].isalnum() else raw\n",
    "            genes.append(raw.strip())\n",
    "    vars = []\n",
    "    for regex in all_var:      \n",
    "        for m in regex.finditer(sent):\n",
    "            span = (m.start(0), m.end(0))    \n",
    "            raw = (sent[span[0]:span[1]])\n",
    "            raw = raw[1:] if not raw[0].isalnum() else raw\n",
    "            raw = raw[:-1] if not raw[-1].isalnum() else raw\n",
    "            vars.append(raw.strip())\n",
    "    if genes:\n",
    "        genes  = list(set(genes))\n",
    "        genes = \", \".join(genes)\n",
    "    else:\n",
    "        genes = ''\n",
    "    if vars:\n",
    "        vars  = list(set(vars))\n",
    "        vars = \", \".join(vars)\n",
    "    else:\n",
    "        vars = ''\n",
    "    final.append([text[i,0], text[i,1], genes, vars, text[i,2], text[i,3], text[i,4]])"
   ]
  },
  {
   "cell_type": "code",
   "execution_count": null,
   "metadata": {},
   "outputs": [],
   "source": [
    "np.save(r'data/model_output/results.npy', final)\n",
    "\n",
    "data = pd.DataFrame(final[:], columns=['WBPaper ID', 'Method', 'Gene name', 'Variant name', '*Gene-Variant combo ', 'Mutations', 'Sentence'])\n",
    "data.to_csv(\"./data/model_output/extracted_snippets.csv\", index=False, encoding='utf-8')"
   ]
  },
  {
   "cell_type": "markdown",
   "metadata": {},
   "source": [
    "# 2 Normalizing mutations"
   ]
  },
  {
   "cell_type": "markdown",
   "metadata": {},
   "source": []
  }
 ],
 "metadata": {
  "interpreter": {
   "hash": "90bac3f7a4bb879b9d06605bdeda624e0779c88b1a5b8631d7aaa6d430fa2aec"
  },
  "kernelspec": {
   "display_name": "Python 3 (ipykernel)",
   "language": "python",
   "name": "python3"
  },
  "language_info": {
   "codemirror_mode": {
    "name": "ipython",
    "version": 3
   },
   "file_extension": ".py",
   "mimetype": "text/x-python",
   "name": "python",
   "nbconvert_exporter": "python",
   "pygments_lexer": "ipython3",
   "version": "3.8.10"
  }
 },
 "nbformat": 4,
 "nbformat_minor": 4
}
